{
 "cells": [
  {
   "cell_type": "code",
   "execution_count": 4,
   "metadata": {},
   "outputs": [
    {
     "data": {
      "text/plain": [
       "'hballav'"
      ]
     },
     "execution_count": 4,
     "metadata": {},
     "output_type": "execute_result"
    }
   ],
   "source": [
    "#reverse the string\n",
    "def reversestr(string):\n",
    "    l=len(string)\n",
    "    string=list(string)\n",
    "    for i in range((l+1)//2):\n",
    "        string[i],string[l-i-1] = string[l-i-1],string[i]\n",
    "    s = ''.join(x for x in string)\n",
    "    return s\n",
    "\n",
    "reversestr(\"vallabh\")"
   ]
  },
  {
   "cell_type": "code",
   "execution_count": 13,
   "metadata": {},
   "outputs": [
    {
     "data": {
      "text/plain": [
       "[0, 1, 2]"
      ]
     },
     "execution_count": 13,
     "metadata": {},
     "output_type": "execute_result"
    }
   ],
   "source": [
    "#Find occurrence of pattern in string\n",
    "def findPattern(string, pattern):\n",
    "    indexes=[]\n",
    "    for i in range(len(string)):\n",
    "        ind=string[i:].find(pattern)\n",
    "        if(ind!=-1):\n",
    "            indexes.append(ind+i)\n",
    "    return list(set(indexes))\n",
    "    \n",
    "string=\"AAAAA\"\n",
    "pattern=\"AAA\"\n",
    "findPattern(string, pattern)"
   ]
  },
  {
   "cell_type": "code",
   "execution_count": 21,
   "metadata": {},
   "outputs": [
    {
     "data": {
      "text/plain": [
       "'yes'"
      ]
     },
     "execution_count": 21,
     "metadata": {},
     "output_type": "execute_result"
    }
   ],
   "source": [
    "#check palindrome\n",
    "def ispalindrome(string):\n",
    "    if len(string)<=1:\n",
    "        return \"yes\"\n",
    "    else:\n",
    "        for i in range(len(string)//2):\n",
    "            if(string[i]!=string[len(string)-1-i]):\n",
    "                return \"no\"\n",
    "        return \"yes\"\n",
    "strin=\"ankit\"\n",
    "ispalindrome(\"ababa\")\n",
    "            "
   ]
  },
  {
   "cell_type": "code",
   "execution_count": 12,
   "metadata": {},
   "outputs": [
    {
     "data": {
      "text/plain": [
       "[0, 1, 2, 10, 10, 10, 10, 10, 10, 10, 10]"
      ]
     },
     "execution_count": 12,
     "metadata": {},
     "output_type": "execute_result"
    }
   ],
   "source": [
    "\n",
    "string=\"AAAAA gfg AAA\"\n",
    "pattern=\"AAA\"\n",
    "string[3:].find(\"gfg\")\n",
    "indexes=[]\n",
    "for i in range(len(string)):\n",
    "    ind=string[i:].find(pattern)\n",
    "    if(ind!=-1):\n",
    "        indexes.append(ind+i)\n",
    "indexes"
   ]
  }
 ],
 "metadata": {
  "kernelspec": {
   "display_name": "Python 3.8.8 ('base')",
   "language": "python",
   "name": "python3"
  },
  "language_info": {
   "codemirror_mode": {
    "name": "ipython",
    "version": 3
   },
   "file_extension": ".py",
   "mimetype": "text/x-python",
   "name": "python",
   "nbconvert_exporter": "python",
   "pygments_lexer": "ipython3",
   "version": "3.8.8"
  },
  "orig_nbformat": 4,
  "vscode": {
   "interpreter": {
    "hash": "ed48bbe6901af0dc6c0b1ba0398ca2f757978f8fe52893c404caad807bf459ad"
   }
  }
 },
 "nbformat": 4,
 "nbformat_minor": 2
}
