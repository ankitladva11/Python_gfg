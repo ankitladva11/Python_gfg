{
 "cells": [
  {
   "cell_type": "code",
   "execution_count": 4,
   "metadata": {},
   "outputs": [
    {
     "data": {
      "text/plain": [
       "'hballav'"
      ]
     },
     "execution_count": 4,
     "metadata": {},
     "output_type": "execute_result"
    }
   ],
   "source": [
    "#reverse the string\n",
    "def reversestr(string):\n",
    "    l=len(string)\n",
    "    string=list(string)\n",
    "    for i in range((l+1)//2):\n",
    "        string[i],string[l-i-1] = string[l-i-1],string[i]\n",
    "    s = ''.join(x for x in string)\n",
    "    return s\n",
    "\n",
    "reversestr(\"vallabh\")"
   ]
  },
  {
   "cell_type": "code",
   "execution_count": 13,
   "metadata": {},
   "outputs": [
    {
     "data": {
      "text/plain": [
       "[0, 1, 2]"
      ]
     },
     "execution_count": 13,
     "metadata": {},
     "output_type": "execute_result"
    }
   ],
   "source": [
    "#Find occurrence of pattern in string\n",
    "def findPattern(string, pattern):\n",
    "    indexes=[]\n",
    "    for i in range(len(string)):\n",
    "        ind=string[i:].find(pattern)\n",
    "        if(ind!=-1):\n",
    "            indexes.append(ind+i)\n",
    "    return list(set(indexes))\n",
    "    \n",
    "string=\"AAAAA\"\n",
    "pattern=\"AAA\"\n",
    "findPattern(string, pattern)"
   ]
  },
  {
   "cell_type": "code",
   "execution_count": 21,
   "metadata": {},
   "outputs": [
    {
     "data": {
      "text/plain": [
       "'yes'"
      ]
     },
     "execution_count": 21,
     "metadata": {},
     "output_type": "execute_result"
    }
   ],
   "source": [
    "#check palindrome\n",
    "def ispalindrome(string):\n",
    "    if len(string)<=1:\n",
    "        return \"yes\"\n",
    "    else:\n",
    "        for i in range(len(string)//2):\n",
    "            if(string[i]!=string[len(string)-1-i]):\n",
    "                return \"no\"\n",
    "        return \"yes\"\n",
    "strin=\"ankit\"\n",
    "ispalindrome(\"ababa\")\n",
    "            "
   ]
  },
  {
   "cell_type": "code",
   "execution_count": 32,
   "metadata": {},
   "outputs": [
    {
     "data": {
      "text/plain": [
       "'Yes'"
      ]
     },
     "execution_count": 32,
     "metadata": {},
     "output_type": "execute_result"
    }
   ],
   "source": [
    "#check for Anagram \n",
    "def isanagram(s1,s2):\n",
    "    if(len(s2) !=len(s1)):\n",
    "        return \"No\"\n",
    "    else:\n",
    "        s1=list(s1).sort()\n",
    "        s2=list(s2).sort()\n",
    "        if (s1==s2): return \"Yes\"\n",
    "        else: return \"No\"\n",
    "        \n",
    "isanagram(\"aniki\",\"ankii\")"
   ]
  },
  {
   "cell_type": "code",
   "execution_count": 38,
   "metadata": {},
   "outputs": [
    {
     "data": {
      "text/plain": [
       "'Yes'"
      ]
     },
     "execution_count": 38,
     "metadata": {},
     "output_type": "execute_result"
    }
   ],
   "source": [
    "# efficient solution\n",
    "def isanagram2(s1, s2):\n",
    "    if(len(s2) !=len(s1)):\n",
    "        return \"No\"\n",
    "    count=[0]*256\n",
    "    for i in range(0,len(s1)):\n",
    "        count[ord(s1[i])]+=1\n",
    "        count[ord(s2[i])]-=1\n",
    "    for x in count:\n",
    "        if x!=0:\n",
    "            return \"No\"\n",
    "    return \"Yes\"\n",
    "        \n",
    "    \n",
    "isanagram2(\"anikt\",\"ankit\")"
   ]
  }
 ],
 "metadata": {
  "kernelspec": {
   "display_name": "Python 3.8.8 ('base')",
   "language": "python",
   "name": "python3"
  },
  "language_info": {
   "codemirror_mode": {
    "name": "ipython",
    "version": 3
   },
   "file_extension": ".py",
   "mimetype": "text/x-python",
   "name": "python",
   "nbconvert_exporter": "python",
   "pygments_lexer": "ipython3",
   "version": "3.8.8"
  },
  "orig_nbformat": 4,
  "vscode": {
   "interpreter": {
    "hash": "ed48bbe6901af0dc6c0b1ba0398ca2f757978f8fe52893c404caad807bf459ad"
   }
  }
 },
 "nbformat": 4,
 "nbformat_minor": 2
}
