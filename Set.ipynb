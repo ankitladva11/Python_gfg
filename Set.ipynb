{
 "cells": [
  {
   "cell_type": "code",
   "execution_count": 1,
   "metadata": {},
   "outputs": [
    {
     "name": "stdout",
     "output_type": "stream",
     "text": [
      "<class 'set'>   {'c', 'e', 'a', 'd', 'b'}\n",
      "<class 'tuple'>   ('c', 'e', 'a', 'd', 'b')\n"
     ]
    }
   ],
   "source": [
    "# program to convert set to tuple\n",
    "# create set\n",
    "s = {'a', 'b', 'c', 'd', 'e'}\n",
    "\n",
    "# print set\n",
    "print(type(s), \" \", s)\n",
    "\n",
    "# call tuple() method\n",
    "# this method convert set to tuple\n",
    "t = tuple(s)\n",
    "\n",
    "# print tuple\n",
    "print(type(t), \" \", t)\n"
   ]
  },
  {
   "cell_type": "code",
   "execution_count": 4,
   "metadata": {},
   "outputs": [
    {
     "name": "stdout",
     "output_type": "stream",
     "text": [
      "No. of vowels : 4\n"
     ]
    }
   ],
   "source": [
    "# Python3 code to count vowel in\n",
    "# a string using set\n",
    "\n",
    "# Function to count vowel\n",
    "def vowel_count(str):\n",
    "\t\n",
    "\t# Initializing count variable to 0\n",
    "\tcount = 0\n",
    "\t\n",
    "\t# Creating a set of vowels\n",
    "\tvowel = set(\"aeiouAEIOU\")\n",
    "\t\n",
    "\t# Loop to traverse the alphabet\n",
    "\t# in the given string\n",
    "\tfor alphabet in str:\n",
    "\t\n",
    "\t\t# If alphabet is present\n",
    "\t\t# in set vowel\n",
    "\t\tif alphabet in vowel:\n",
    "\t\t\tcount = count + 1\n",
    "\t\n",
    "\tprint(\"No. of vowels :\", count)\n",
    "\t\n",
    "# Driver code\n",
    "str = \"Ankit Ladva\"\n",
    "\n",
    "# Function Call\n",
    "vowel_count(str)\n"
   ]
  },
  {
   "cell_type": "code",
   "execution_count": 5,
   "metadata": {},
   "outputs": [
    {
     "name": "stdout",
     "output_type": "stream",
     "text": [
      "[9, 10, 4, 5]\n"
     ]
    }
   ],
   "source": [
    "# Python program to illustrate the intersection\n",
    "# of two lists using set() method\n",
    "def intersection(lst1, lst2):\n",
    "\treturn list(set(lst1) & set(lst2))\n",
    "\n",
    "# Driver Code\n",
    "lst1 = [15, 9, 10, 56, 23, 78, 5, 4, 9]\n",
    "lst2 = [9, 4, 5, 36, 47, 26, 10, 45, 87]\n",
    "print(intersection(lst1, lst2))\n"
   ]
  },
  {
   "cell_type": "code",
   "execution_count": 7,
   "metadata": {},
   "outputs": [
    {
     "data": {
      "text/plain": [
       "True"
      ]
     },
     "execution_count": 7,
     "metadata": {},
     "output_type": "execute_result"
    }
   ],
   "source": [
    "#is zero sum subarrays in arrays \n",
    "#naive solution\n",
    "def issumzero(arr):\n",
    "    n=len(arr)\n",
    "    for i in range(n):\n",
    "        for j in range(i+1,n+1):\n",
    "            if sum(arr[i:j])==0:\n",
    "                return True\n",
    "    return False\n",
    "a=[4,3,-2,1,1]\n",
    "issumzero(a)"
   ]
  },
  {
   "cell_type": "code",
   "execution_count": 13,
   "metadata": {},
   "outputs": [
    {
     "data": {
      "text/plain": [
       "False"
      ]
     },
     "execution_count": 13,
     "metadata": {},
     "output_type": "execute_result"
    }
   ],
   "source": [
    "#linear solution\n",
    "def issumzero2(arr):\n",
    "    pre_sum=0\n",
    "    hash=[]\n",
    "    if (len(arr)==1):\n",
    "        return arr[0]==0\n",
    "    for i in range(len(arr)):\n",
    "        pre_sum+=arr[i]\n",
    "        if(pre_sum not in hash or pre_sum==0):\n",
    "            hash.append(pre_sum)\n",
    "        else:\n",
    "            return True\n",
    "    return False        \n",
    "a=[4,3,2,1,1]\n",
    "issumzero2(a)"
   ]
  },
  {
   "cell_type": "code",
   "execution_count": 21,
   "metadata": {},
   "outputs": [
    {
     "data": {
      "text/plain": [
       "True"
      ]
     },
     "execution_count": 21,
     "metadata": {},
     "output_type": "execute_result"
    }
   ],
   "source": [
    "#check for palindrome\n",
    "def check_palindrome(strin):\n",
    "    n=len(strin)\n",
    "    list_str=list(strin)\n",
    "    if (n>1):\n",
    "        count=[]\n",
    "        for i in list(strin):\n",
    "            count.append(list(strin).count(i))\n",
    "        if 1 in count:\n",
    "            return list_str[count.index(1)]==list_str[n//2]\n",
    "            \n",
    "            return False\n",
    "        else: return True\n",
    "    else: return True\n",
    "        \n",
    "check_palindrome(\"aba\")    "
   ]
  },
  {
   "cell_type": "code",
   "execution_count": 22,
   "metadata": {},
   "outputs": [
    {
     "name": "stdout",
     "output_type": "stream",
     "text": [
      "The original dictionary is : {'Anki': 1, 'is': 2, 'best': 3, 'in': 4, 'machine': 5, 'learning': 6}\n",
      "The converted list : [{'Anki': 1, 'is': 2}, {'best': 3, 'in': 4}, {'machine': 5, 'learning': 6}]\n"
     ]
    }
   ],
   "source": [
    "# Convert dictionary to K Keys dictionaries\n",
    "# Using for loop \n",
    "\n",
    "# initializing dictionary\n",
    "test_dict = {'Anki' : 1, 'is' : 2, 'best' : 3, 'in' : 4, 'machine' : 5, 'learning' : 6}\n",
    "\n",
    "# printing original dictionary\n",
    "print(\"The original dictionary is : \" + str(test_dict))\n",
    "\n",
    "# initializing K\n",
    "K = 2\n",
    "\n",
    "res = []\n",
    "count = 0\n",
    "flag = 0\n",
    "indict = dict()\n",
    "for key in test_dict:\n",
    "\tindict[key] = test_dict[key]\t\t\n",
    "\tcount += 1\n",
    "\t\n",
    "\t# checking for K size and avoiding empty dict using flag\n",
    "\tif count % K == 0 and flag:\n",
    "\t\tres.append(indict)\n",
    "\t\t\n",
    "\t\t# reinitializing dictionary\n",
    "\t\tindict = dict()\n",
    "\t\tcount = 0\n",
    "\tflag = 1\n",
    "\t\n",
    "\n",
    "# printing result\n",
    "print(\"The converted list : \" + str(res))\n"
   ]
  }
 ],
 "metadata": {
  "kernelspec": {
   "display_name": "Python 3.8.8 ('base')",
   "language": "python",
   "name": "python3"
  },
  "language_info": {
   "codemirror_mode": {
    "name": "ipython",
    "version": 3
   },
   "file_extension": ".py",
   "mimetype": "text/x-python",
   "name": "python",
   "nbconvert_exporter": "python",
   "pygments_lexer": "ipython3",
   "version": "3.8.8"
  },
  "orig_nbformat": 4,
  "vscode": {
   "interpreter": {
    "hash": "ed48bbe6901af0dc6c0b1ba0398ca2f757978f8fe52893c404caad807bf459ad"
   }
  }
 },
 "nbformat": 4,
 "nbformat_minor": 2
}
