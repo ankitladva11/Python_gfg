{
 "cells": [
  {
   "cell_type": "code",
   "execution_count": 1,
   "metadata": {},
   "outputs": [
    {
     "data": {
      "text/plain": [
       "33"
      ]
     },
     "execution_count": 1,
     "metadata": {},
     "output_type": "execute_result"
    }
   ],
   "source": [
    "#largest number\n",
    "from xmlrpc.client import MAXINT\n",
    "\n",
    "\n",
    "def max(l):\n",
    "    largest=-MAXINT\n",
    "    for x in l:\n",
    "        if x > largest:\n",
    "            largest=x\n",
    "    return largest\n",
    "l=[2,4,33,22,3,1]\n",
    "max(l)"
   ]
  },
  {
   "cell_type": "code",
   "execution_count": 13,
   "metadata": {},
   "outputs": [
    {
     "data": {
      "text/plain": [
       "22"
      ]
     },
     "execution_count": 13,
     "metadata": {},
     "output_type": "execute_result"
    }
   ],
   "source": [
    "#2nd largest number\n",
    "from tkinter import NONE\n",
    "\n",
    "\n",
    "def secondL(l):\n",
    "    if len(l)==0:\n",
    "        return NONE\n",
    "    largest=-MAXINT\n",
    "    for x in l:\n",
    "        if x > largest:\n",
    "            largest=x\n",
    "    while (l.count(largest))!=0:\n",
    "        l.remove(largest)\n",
    "    if len(l)==0:\n",
    "        return NONE\n",
    "    return max(l)\n",
    "l=[2,4,33,22,33,3,1]\n",
    "secondL(l)\n",
    "\n",
    "        "
   ]
  },
  {
   "cell_type": "code",
   "execution_count": 17,
   "metadata": {},
   "outputs": [
    {
     "data": {
      "text/plain": [
       "True"
      ]
     },
     "execution_count": 17,
     "metadata": {},
     "output_type": "execute_result"
    }
   ],
   "source": [
    "#checked sorted list\n",
    "def checkedsorted(l):\n",
    "    if -1<len(l)<=1:\n",
    "        return True\n",
    "    sorted=False\n",
    "    for i in range(len(l)-1):\n",
    "        p=i\n",
    "        q=i+1\n",
    "        if l[p]<=l[q]:\n",
    "            sorted=True\n",
    "        else:\n",
    "            sorted=False\n",
    "            break\n",
    "    return sorted\n",
    "l=[100,100,999]\n",
    "checkedsorted(l)\n",
    " "
   ]
  },
  {
   "cell_type": "code",
   "execution_count": 22,
   "metadata": {},
   "outputs": [
    {
     "data": {
      "text/plain": [
       "999"
      ]
     },
     "execution_count": 22,
     "metadata": {},
     "output_type": "execute_result"
    }
   ],
   "source": [
    "#find the only odd \n",
    "def findodd(l):\n",
    "    lunique = list(set(l))\n",
    "    count=[]\n",
    "    for i in lunique:\n",
    "        # count.append(l.count(i))\n",
    "        if l.count(i)%2!=0:\n",
    "            return i\n",
    "    return \"not found\"\n",
    "def findodd2(l):\n",
    "    lunique=[]\n",
    "    for i in l:\n",
    "        if i not in lunique:\n",
    "            lunique.append(i)\n",
    "    count=[0]*len(lunique)\n",
    "    for i in range(len(l)):\n",
    "        if l[i] in lunique:\n",
    "            for k in range(len(lunique)):\n",
    "                if lunique[k]==l[i]:\n",
    "                    count[k] = count[k] + 1\n",
    "    for i in range(len(count)):\n",
    "        if count[i]%2!=0:\n",
    "            return lunique[i]\n",
    "#3rd efficient method with xor\n",
    "def findodd3(l):\n",
    "    res=0\n",
    "    for x in l:\n",
    "        res=res or x\n",
    "    return x\n",
    "    \n",
    "            \n",
    "        \n",
    "l=[100,100,999]\n",
    "findodd3(l)"
   ]
  },
  {
   "cell_type": "code",
   "execution_count": 28,
   "metadata": {},
   "outputs": [
    {
     "name": "stdout",
     "output_type": "stream",
     "text": [
      "[999, 33, 100]\n"
     ]
    }
   ],
   "source": [
    "# reverse a list\n",
    "def reverseL(l):\n",
    "    k=len(l)\n",
    "    for i in range((k+1)//2):\n",
    "        l[i],l[k-i-1]=l[k-i-1],l[i]\n",
    "    return l\n",
    "l=[100,33,999]\n",
    "print(reverseL(l))\n",
    "        "
   ]
  },
  {
   "cell_type": "code",
   "execution_count": 49,
   "metadata": {},
   "outputs": [
    {
     "name": "stdout",
     "output_type": "stream",
     "text": [
      "[33, 999, 100]\n"
     ]
    }
   ],
   "source": [
    "#left rotate by d place\n",
    "def leftrotated(l,d):\n",
    "    firstd_ele=l[0:d]\n",
    "    l2=[]\n",
    "    n=len(l)\n",
    "    for i in range(n-d):\n",
    "        l2.append(l[d+i])\n",
    "    l2.extend(firstd_ele)\n",
    "    return l2\n",
    "# with pop and append\n",
    "def leftRotate2(l,d):\n",
    "    for i in range(0,d):\n",
    "        l.append(l.pop(0))\n",
    "    return l\n",
    "#efficient sol by reverse method \n",
    "def reversee(l,b,e):\n",
    "    while b<e:\n",
    "        l[b],l[e]=l[e],l[b]\n",
    "        b=b+1\n",
    "        e=e-1\n",
    "def leftrotate3(l,d):\n",
    "    n=len(l)\n",
    "    reversee(l,0,d-1)    \n",
    "    reversee(l,d,n-1)    \n",
    "    reversee(l,0,n-1)  \n",
    "    return l  \n",
    "    \n",
    "l=[100,33,999]\n",
    "# print(leftrotated(l,2))\n",
    "# print(leftRotate2(l,1))\n",
    "print(leftrotate3(l,1))\n",
    "\n"
   ]
  }
 ],
 "metadata": {
  "kernelspec": {
   "display_name": "Python 3.8.8 ('base')",
   "language": "python",
   "name": "python3"
  },
  "language_info": {
   "codemirror_mode": {
    "name": "ipython",
    "version": 3
   },
   "file_extension": ".py",
   "mimetype": "text/x-python",
   "name": "python",
   "nbconvert_exporter": "python",
   "pygments_lexer": "ipython3",
   "version": "3.8.8"
  },
  "orig_nbformat": 4,
  "vscode": {
   "interpreter": {
    "hash": "ed48bbe6901af0dc6c0b1ba0398ca2f757978f8fe52893c404caad807bf459ad"
   }
  }
 },
 "nbformat": 4,
 "nbformat_minor": 2
}
