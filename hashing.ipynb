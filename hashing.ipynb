{
 "cells": [
  {
   "cell_type": "code",
   "execution_count": 4,
   "metadata": {},
   "outputs": [
    {
     "name": "stdout",
     "output_type": "stream",
     "text": [
      "[[70], [99, 43], [], [80], [], [], []]\n",
      "True\n",
      "[[70], [99, 43], [], [], [], [], []]\n"
     ]
    }
   ],
   "source": [
    "# implimentation of My hash function\n",
    "class MyHash:\n",
    "    def __init__(self, bucket):\n",
    "        self.bucket = bucket\n",
    "        self.table = [[] for x in range(bucket)]\n",
    "\n",
    "    def insert(self, x):\n",
    "        index = x % self.bucket\n",
    "        self.table[index].append(x)\n",
    "\n",
    "    def search(self, x):\n",
    "        index = x % self.bucket\n",
    "        return x in self.table[index]\n",
    "\n",
    "    def remove(self, x):\n",
    "        index = x % self.bucket\n",
    "        if x in self.table[index]:\n",
    "            self.table[index].remove(x)\n",
    "        else:\n",
    "            return -1\n",
    "    def print(self):\n",
    "        print(self.table)\n",
    "        \n",
    "\n",
    "\n",
    "h = MyHash(7)\n",
    "h.insert(99)\n",
    "h.insert(70)\n",
    "h.insert(80)\n",
    "h.insert(43)\n",
    "h.print()\n",
    "print(h.search(70))\n",
    "h.remove(80)\n",
    "h.print()"
   ]
  },
  {
   "cell_type": "code",
   "execution_count": 8,
   "metadata": {},
   "outputs": [
    {
     "name": "stdout",
     "output_type": "stream",
     "text": [
      "True\n"
     ]
    }
   ],
   "source": [
    "# implimentation of Open Addressing\n",
    "class Myhashh:\n",
    "    def __init__(self,c):\n",
    "        self.cap = c\n",
    "        self.table=[-1]*c\n",
    "        self.size=0\n",
    "    def hash(self,x):\n",
    "        return x%self.cap\n",
    "    def insert(self,x):\n",
    "        if self.search(x)==True:\n",
    "            return False\n",
    "        if self.size!=self.cap:\n",
    "            for i in range(self.cap):\n",
    "                index=(x+i)%self.cap\n",
    "                if self.table[index]==-1:\n",
    "                    self.table[index]=x\n",
    "                    self.size+=1\n",
    "                    return True\n",
    "                    break\n",
    "    def search(self,x):\n",
    "        for i in range(self.cap):\n",
    "            index=(x+i)%self.cap\n",
    "            if self.table[index]==x:\n",
    "                return True\n",
    "        return False\n",
    "        \n",
    "    def remove(self,x):\n",
    "        for i in range(self.cap):\n",
    "            index=(x+i)%self.cap\n",
    "            if self.table[index]==x:\n",
    "                self.table[index]=-1\n",
    "                self.size-=1\n",
    "                break            \n",
    "        \n",
    "\n",
    "        \n",
    "\n",
    "h = Myhashh(7)\n",
    "h.insert(99)\n",
    "h.insert(70)\n",
    "h.insert(80)\n",
    "h.insert(43)\n",
    "# h.print()\n",
    "print(h.search(70))\n",
    "h.remove(80)\n",
    "# h.print()"
   ]
  }
 ],
 "metadata": {
  "kernelspec": {
   "display_name": "Python 3.8.8 ('base')",
   "language": "python",
   "name": "python3"
  },
  "language_info": {
   "codemirror_mode": {
    "name": "ipython",
    "version": 3
   },
   "file_extension": ".py",
   "mimetype": "text/x-python",
   "name": "python",
   "nbconvert_exporter": "python",
   "pygments_lexer": "ipython3",
   "version": "3.8.8"
  },
  "orig_nbformat": 4,
  "vscode": {
   "interpreter": {
    "hash": "ed48bbe6901af0dc6c0b1ba0398ca2f757978f8fe52893c404caad807bf459ad"
   }
  }
 },
 "nbformat": 4,
 "nbformat_minor": 2
}
